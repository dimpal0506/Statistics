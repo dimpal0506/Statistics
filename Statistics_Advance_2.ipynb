{
  "nbformat": 4,
  "nbformat_minor": 0 ,
  "metadata": {
    "colab": {
      "provenance": []
    },
    "kernelspec": {
      "name": "python3",
      "display_name": "Python 3"
    },
    "language_info": {
      "name": "python"
    }
  },
  "cells": [
    {
      "cell_type": "markdown",
      "source": [
        "1: Define the z-statistic and explain its relationship to the standard normal distribution. How is the\n",
        "z-statistic used in hypothesis testing?"
      ],
      "metadata": {
        "id": "v8OQzALzE_5F"
      }
    },
    {
      "cell_type": "code",
      "source": [
        "#The z-statistic (or z-score) is a statistical measure that describes a data point's position relative to the mean of a data set,\n",
        "#expressed in terms of standard deviations.\n",
        "#It is commonly used to compare a sample mean to a population mean or to standardize individual data points for comparison.\n",
        "#The formula for calculating the z-statistic is: z=  X−μ / σ\n",
        "\n",
        "#Relationship to the Standard Normal Distribution:\n",
        "#The z-statistic is directly related to the standard normal distribution, which has a mean of 0 and a standard deviation of 1.\n",
        "#When a z-statistic is calculated, it transforms the data into a z-score that corresponds to the standard normal distribution.\n",
        "#For a sample, if the underlying population is normally distributed (or the sample size is large enough for the Central Limit Theorem to apply),\n",
        "#the z-statistic will follow a standard normal distribution.\n",
        "#The standard normal distribution allows for the calculation of probabilities and percentiles for the z-score,\n",
        "#helping to assess how unusual or likely an observed result is.\n",
        "​\n",
        "#Z-Statistic in Hypothesis Testing:\n",
        "#In hypothesis testing, the z-statistic is used to test the validity of a hypothesis about a population parameter. Here's how it is used in the process:\n",
        "\n",
        "#1. Formulate Hypotheses:\n",
        "\n",
        "#Null hypothesis : This is the default assumption (e.g., the sample mean is equal to the population mean).\n",
        "#Alternative hypothesis : This represents the claim you want to test (e.g., the sample mean is not equal to the population mean).\n",
        "\n",
        "#2. Calculate the Z-Statistic: Using the sample data,\n",
        "#calculate the z-statistic to determine how far the sample statistic (e.g., sample mean) is from the population parameter under the null hypothesis.\n",
        "\n",
        "#3. Determine the Critical Value or P-Value:\n",
        "#Based on the chosen significance level, find the critical value(s) from the standard normal distribution.\n",
        "#For a two-tailed test, the critical z-values are typically ±1.96 for a 5% significance level (i.e., α=0.05).\n",
        "#Alternatively, calculate the p-value associated with the z-statistic.\n",
        "#The p-value is the probability of observing a test statistic as extreme as the sample statistic, given that the null hypothesis is true.\n",
        "\n",
        "#4. Decision Rule:\n",
        "#If the absolute value of the z-statistic is greater than the critical value, reject the null hypothesis.\n",
        "#If the p-value is smaller than the significance level (𝛼), reject the null hypothesis."
      ],
      "metadata": {
        "colab": {
          "base_uri": "https://localhost:8080/",
          "height": 106
        },
        "id": "G1zaMdefGu2Y",
        "outputId": "728a5665-451d-48aa-8afc-c26882623b1c"
      },
      "execution_count": null,
      "outputs": [
        {
          "output_type": "error",
          "ename": "SyntaxError",
          "evalue": "invalid non-printable character U+200B (<ipython-input-1-5bfdedbf0af7>, line 13)",
          "traceback": [
            "\u001b[0;36m  File \u001b[0;32m\"<ipython-input-1-5bfdedbf0af7>\"\u001b[0;36m, line \u001b[0;32m13\u001b[0m\n\u001b[0;31m    ​\u001b[0m\n\u001b[0m    ^\u001b[0m\n\u001b[0;31mSyntaxError\u001b[0m\u001b[0;31m:\u001b[0m invalid non-printable character U+200B\n"
          ]
        }
      ]
    },
    {
      "cell_type": "markdown",
      "source": [
        "2 : What is a p-value, and how is it used in hypothesis testing? What does it mean if the p-value is\n",
        "very small (e.g., 0.01)?"
      ],
      "metadata": {
        "id": "sUWVdKmzFABN"
      }
    },
    {
      "cell_type": "code",
      "source": [
        "#A p-value (probability value) is a measure used in statistical hypothesis testing to help determine the strength of the evidence against the null hypothesis.\n",
        "#The null hypothesis typically represents the idea that there is no effect or no difference in the population,\n",
        "#and the p-value helps assess how compatible the observed data is with this assumption.\n",
        "#Set up hypotheses:\n",
        "\n",
        "#How it is used in hypothesis testing:\n",
        "#1. Set up hypotheses:\n",
        "#Null hypothesis (H₀): This is the hypothesis that there is no effect or difference (e.g., no relationship between variables).\n",
        "#Alternative hypothesis (H₁): This is the hypothesis that there is an effect or difference.\n",
        "\n",
        "#2. Collect data and perform a statistical test.\n",
        "\n",
        "#3. Calculate the p-value:\n",
        "#Using the test statistic (e.g., t-test, chi-square test), the p-value is calculated to determine how well the data supports the null hypothesis.\n",
        "\n",
        "#4. Compare the p-value to a significance level (α):\n",
        "#The significance level (α) is usually set at 0.05 (5%), which is the threshold for deciding whether the evidence is strong enough to reject the null hypothesis.\n",
        "#If the p-value is less than α (e.g., p < 0.05), we reject the null hypothesis, concluding that there is significant evidence to support the alternative hypothesis.\n",
        "#If the p-value is greater than α (e.g., p > 0.05), we fail to reject the null hypothesis,\n",
        "#meaning there is not enough evidence to support the alternative hypothesis.\n",
        "\n",
        "#What does a small p-value (e.g., 0.01) mean?\n",
        "# very small p-value, such as 0.01, suggests strong evidence against the null hypothesis. Specifically:\n",
        "#If the p-value is 0.01, this means there is only a 1% probability that the observed data (or something more extreme) would occur if the null hypothesis were true.\n",
        "#In this case, because 0.01 is smaller than a typical significance level of 0.05, you would reject the null hypothesis,\n",
        "#indicating that the observed effect is statistically significant and unlikely to have occurred by chance alone.\n",
        "\n",
        "#Interpreting the p-value:\n",
        "#A small p-value (e.g., 0.01) typically means that the observed results are unlikely under the null hypothesis and that the null hypothesis can be rejected.\n",
        "#A larger p-value suggests that the data does not provide strong evidence against the null hypothesis, so you fail to reject it.\n",
        "#However, it’s important to note that:\n",
        "#A small p-value does not prove the alternative hypothesis is true. It just indicates that the data is inconsistent with the null hypothesis.\n",
        "#A larger p-value does not prove the null hypothesis is true, but rather that the data does not provide enough evidence to reject it."
      ],
      "metadata": {
        "id": "kOt-gYnPSQY5"
      },
      "execution_count": null,
      "outputs": []
    },
    {
      "cell_type": "markdown",
      "source": [
        "3: Compare and contrast the binomial and Bernoulli distributions."
      ],
      "metadata": {
        "id": "IQ31LilHFAEG"
      }
    },
    {
      "cell_type": "code",
      "source": [
        "#The binomial distribution and the Bernoulli distribution are closely related probability distributions used in statistics,\n",
        "#both dealing with binary outcomes (success or failure, yes or no).\n",
        "#However, they differ in the context of the experiments they model and the parameters involved.\n",
        "\n",
        "#1. Bernoulli Distribution:\n",
        "#The Bernoulli distribution is the probability distribution of a single binary trial (or experiment).\n",
        "#It models a random variable that can have one of two possible outcomes: success (denoted by 1) or failure (denoted by 0).\n",
        "\n",
        "#Parameters:\n",
        "#p: The probability of success (1) in a single trial.\n",
        "#The probability of failure (0) is 1 - p.\n",
        "#So, the two possible outcomes are:\n",
        "#Success (1) with probability p.\n",
        "#Failure (0) with probability 1 - p.\n",
        "\n",
        "#2. Binomial Distribution:\n",
        "#The binomial distribution extends the Bernoulli distribution to multiple independent trials of the same experiment.\n",
        "#It models the number of successes in n independent Bernoulli trials.\n",
        "\n",
        "#Parameters:\n",
        "#n: The number of trials.\n",
        "#p: The probability of success on a single trial.\n",
        "#The binomial distribution is used to model the total number of successes (denoted by X) out of n trials,\n",
        "#where each trial has two outcomes (success or failure), with a constant probability of success p.\n"
      ],
      "metadata": {
        "id": "MgEaYLZeTonk"
      },
      "execution_count": null,
      "outputs": []
    },
    {
      "cell_type": "markdown",
      "source": [
        "4: Under what conditions is the binomial distribution used, and how does it relate to the Bernoulli\n",
        "distribution?"
      ],
      "metadata": {
        "id": "HGPWAf3gFAG4"
      }
    },
    {
      "cell_type": "code",
      "source": [
        "#The binomial distribution is used under specific conditions that involve repeated independent trials, each with two possible outcomes (success or failure),\n",
        "#and a constant probability of success.\n",
        "#The relationship between the binomial and Bernoulli distributions lies in the fact that the binomial distribution is an extension of the Bernoulli distribution to multiple trials.\n",
        "\n",
        "#Conditions for Using the Binomial Distribution:\n",
        "#The binomial distribution is applicable when the following conditions are met:\n",
        "\n",
        "#1. Fixed Number of Trials (n):\n",
        "#There must be a fixed number of independent trials (experiments). The number of trials, n, is predetermined.\n",
        "\n",
        "#2. Two Possible Outcomes:\n",
        "#Each trial must have exactly two possible outcomes, often termed as \"success\" and \"failure\". These outcomes are typically coded as 1 (success) and 0 (failure).\n",
        "\n",
        "#3. Constant Probability of Success (p):\n",
        "#The probability of success (p) is the same for each trial. Similarly, the probability of failure will be 1 - p for each trial.\n",
        "\n",
        "#4. Independent Trials:\n",
        "#The trials must be independent of each other. This means that the outcome of one trial does not influence the outcome of the others.\n",
        "\n",
        "#5. Discrete Outcomes:\n",
        "#The random variable of interest is the count of successes (or failures) in n trials, and it takes integer values ranging from 0 to n.\n",
        "\n",
        "#Relationship Between the Binomial and Bernoulli Distributions:\n",
        "#Bernoulli distribution can be considered a special case of the binomial distribution where n = 1 (i.e., only one trial).\n",
        "#In a Bernoulli trial, the outcome can either be success or failure, with probabilities p and 1 - p, respectively.\n",
        "\n",
        "#Mathematically, for a Bernoulli trial (n = 1): P(X=1) = p(probability of success)\n",
        "                                              #P(X=0) = 1−p(probability of failure)\n",
        "\n",
        "#Binomial distribution generalizes the Bernoulli distribution to multiple trials (n > 1).\n",
        "#For a binomial experiment, you are interested in the number of successes across n independent Bernoulli trials, each with the same probability p of success.\n",
        "#Thus, the binomial distribution describes the number of successes in multiple independent Bernoulli trials.\n"
      ],
      "metadata": {
        "id": "yott0ZusUzxs"
      },
      "execution_count": 5,
      "outputs": []
    },
    {
      "cell_type": "markdown",
      "source": [
        "5: What are the key properties of the Poisson distribution, and when is it appropriate to use this\n",
        "distribution?"
      ],
      "metadata": {
        "id": "7xohK4UeFAJn"
      }
    },
    {
      "cell_type": "code",
      "source": [
        "#The Poisson distribution is a discrete probability distribution that models the number of events occurring within a fixed interval of time or space,\n",
        "#given that these events occur with a known average rate and are independent of one another.\n",
        "#The distribution is particularly useful for modeling rare events or events that happen at a constant rate over time or space.\n",
        "\n",
        "#Key Properties of the Poisson Distribution:\n",
        "\n",
        "#1. Discrete Distribution:\n",
        "#The Poisson distribution models discrete events that occur in a fixed interval of time, space, or area.\n",
        "#The number of events is always a non-negative integer (0, 1, 2, ...).\n",
        "\n",
        "#2. Parameter (λ):\n",
        "#The Poisson distribution is characterized by a single parameter, λ (lambda),\n",
        "#which represents the average number of events that occur in the fixed interval of interest.\n",
        "#The rate of occurrence of events is assumed to be constant over time or space.\n",
        "#λ is both the mean and the variance of the distribution:\n",
        "#Mean = λ\n",
        "#Variance = λ\n",
        "\n",
        "#3. Memorylessness:\n",
        "#The Poisson distribution has the memoryless property: the probability of an event occurring in the next time interval is independent of the number of events that have occurred so far.\n",
        "#This is sometimes referred to as the lack of \"memory\" of past events.\n",
        "\n",
        "#4. Skewness:\n",
        "#The Poisson distribution is right-skewed when λ is small. As λ increases,\n",
        "#the distribution becomes more symmetric and approaches a normal distribution (central limit theorem), especially when λ is large.\n",
        "\n",
        "#5. Additivity:\n",
        "#If you have two independent Poisson processes,\n",
        "#the total number of events from both processes follows another Poisson distribution with a rate parameter equal to the sum of the individual rates.\n",
        "\n",
        "#When is the Poisson Distribution Appropriate to Use?\n",
        "#The Poisson distribution is used when the following conditions are satisfied:\n",
        "\n",
        "#Events are independent: The occurrence of one event does not affect the occurrence of another.\n",
        "#Fixed interval: The number of events is counted within a specific time, area, or volume.\n",
        "#Constant rate: The events occur at a constant average rate λ over the interval. This means the probability of an event occurring in a small time interval is proportional to the length of that interval, and the probability of more than one event occurring in a very short interval is negligible.\n",
        "#Rare events: The events being modeled are relatively rare within the given interval. For example, modeling the number of accidents at an intersection in a day, the number of phone calls received at a call center, or the number of emails received in an hour.\n",
        "#Discrete events: The number of occurrences can only take on non-negative integer values (e.g., 0, 1, 2, 3...).\n",
        "\n"
      ],
      "metadata": {
        "id": "430SQcbJWgPi"
      },
      "execution_count": 7,
      "outputs": []
    },
    {
      "cell_type": "markdown",
      "source": [
        "6:Define the terms \"probability distribution\" and \"probability density function\" (PDF). How does a\n",
        "PDF differ from a probability mass function (PMF)?"
      ],
      "metadata": {
        "id": "tkMm3N6rFAMV"
      }
    },
    {
      "cell_type": "code",
      "source": [
        "#1. Probability Distribution:\n",
        "#A probability distribution is a mathematical function or rule that provides the probabilities of all possible outcomes of a random variable.\n",
        "#It describes how the total probability (which is always 1) is distributed across the different possible values that a random variable can take.\n",
        "#Probability distributions are crucial in statistics and probability theory as they provide a complete description of a random variable's behavior.\n",
        "#For discrete random variables, the probability distribution is defined by a probability mass function (PMF).\n",
        "#For continuous random variables, the probability distribution is defined by a probability density function (PDF).\n",
        "\n",
        "#2. Probability Density Function (PDF):\n",
        "#A probability density function (PDF) is a function that describes the likelihood of a continuous random variable taking on a particular value.\n",
        "#However, in continuous distributions, the probability of the random variable taking any single exact value is always zero;\n",
        "#instead, the PDF provides the likelihood of the variable falling within a certain range of values.\n",
        "#The area under the curve of the PDF within a given interval represents the probability that the random variable will take a value within that interval.\n",
        "#The total area under the curve of the PDF is always 1, which ensures that the total probability for all possible outcomes is 1.\n",
        "\n",
        "#3. Probability Mass Function (PMF):\n",
        "#A probability mass function (PMF) is a function that gives the probability of a discrete random variable taking a specific value.\n",
        "#It is used for discrete random variables, where the outcomes are countable.\n",
        "#The PMF assigns probabilities to each distinct outcome of a discrete random variable, and the sum of all the probabilities in the distribution equals 1.\n",
        "#For a discrete random variable X, the PMF is denoted as P(X=x), which gives the probability of X taking the value x."
      ],
      "metadata": {
        "id": "RS0jXT0tFegT"
      },
      "execution_count": 8,
      "outputs": []
    },
    {
      "cell_type": "markdown",
      "source": [
        "7: Explain the Central Limit Theorem (CLT) with example.\n",
        "\n",
        "\n",
        "\n"
      ],
      "metadata": {
        "id": "8n7t1tgUFAPJ"
      }
    },
    {
      "cell_type": "code",
      "source": [
        "#Central Limit Theorem (CLT) Explained:\n",
        "#The Central Limit Theorem (CLT) is a fundamental concept in statistics that describes the shape of the sampling distribution of the sample mean (or sum)\n",
        "#when the sample size is sufficiently large. The CLT states that:\n",
        "#Regardless of the original distribution of the population,\n",
        "#the sampling distribution of the sample mean will approach a normal distribution as the sample size increases,\n",
        "#provided that the samples are independent and identically distributed.\n",
        "#This holds true even if the population distribution is not normal, as long as the sample size is large enough.\n",
        "\n",
        "#Example of the Central Limit Theorem:\n",
        "#Scenario:\n",
        "#Imagine you are studying the average height of adult women in a city.\n",
        "#You know the population mean height is 64 inches, and the population standard deviation is 5 inches.\n",
        "#The height of adult women may not follow a normal distribution (it could be skewed or have some other shape).\n",
        "\n",
        "#Step 1: Sampling from the Population\n",
        "#You take samples of size n = 30 from this population and calculate the mean height for each sample.\n",
        "#You repeat this process many times (say, 1000 times), each time taking a random sample of 30 women from the population and calculating their average height.\n",
        "\n",
        "#Step 2: Shape of the Sample Mean Distribution\n",
        "#According to the Central Limit Theorem, regardless of the shape of the population's height distribution,\n",
        "#the distribution of the sample means will approximate a normal distribution.\n",
        "\n",
        "#The mean of the sample means will be equal to the population mean (64 inches), and the standard error of the sample means will be:\n",
        "\n",
        "#Standard Error = 5/sq root of 30 ≈ 0.91\n",
        "\n",
        "#Step 3: Result\n",
        "#As you collect more sample means, the distribution of the sample means will start to look like a normal distribution with:\n",
        "#Mean = 64 inches (same as the population mean).\n",
        "#Standard deviation = 0.91 inches (which is smaller than the population standard deviation due to the averaging effect of the sample).\n",
        "#Even if the original height distribution of adult women is not normal,\n",
        "#the sampling distribution of the sample mean will be approximately normal with a mean of 64 inches and a standard deviation of 0.91 inches,\n",
        "#provided the sample size is large enough."
      ],
      "metadata": {
        "id": "mIcdCoW_Y7WL"
      },
      "execution_count": 9,
      "outputs": []
    },
    {
      "cell_type": "markdown",
      "source": [
        "8: Compare z-scores and t-scores. When should you use a z-score, and when should a t-score be applied instead?"
      ],
      "metadata": {
        "id": "nrpTeGWcFAR5"
      }
    },
    {
      "cell_type": "code",
      "source": [
        "#Comparison of Z-Scores and T-Scores:\n",
        "#Z-scores and T-scores are both standardization tools used in statistical analysis, but they are used under different conditions and have distinct properties.\n",
        "\n",
        "#1. Z-Score:\n",
        "#It is used when we know the population's standard deviation (σ) and the sample size is large (n≥30).\n",
        "#Formula for Z-score: z = X−μ / σ     where,\n",
        "#X is the individual data point or sample mean,\n",
        "#μ is the population mean,\n",
        "#σ is the population standard deviation.\n",
        "\n",
        "#2. T-Score:\n",
        "#A t-score is similar to a z-score but is used when the population's standard deviation (σ) is unknown, and the sample size is small (n<30).\n",
        "#When using the t-score, we estimate the population standard deviation using the sample standard deviation (s).\n",
        "\n",
        "#When to Use a Z-Score:\n",
        "#When the population standard deviation is known (or assumed to be known from prior data).\n",
        "#When the sample size is large (n≥30), which allows the sampling distribution of the sample mean to approximate normality according to the Central Limit Theorem.\n",
        "#For example, if you are testing a population mean where the standard deviation is known and your sample size is large, you would use a z-test.\n",
        "\n",
        "#When to Use a T-Score:\n",
        "#When the population standard deviation is unknown and you need to estimate it using the sample standard deviation.\n",
        "#When the sample size is small (n<30).\n",
        "#For example, if you are testing the average height of a small sample of people, and the population standard deviation is unknown, you would use a t-test."
      ],
      "metadata": {
        "id": "u4qmBaNlaqRb"
      },
      "execution_count": 12,
      "outputs": []
    },
    {
      "cell_type": "markdown",
      "source": [
        "9: Given a sample mean of 105, a population mean of 100, a standard deviation of 15, and a sample\n",
        "size of 25, calculate the z-score and p-value. Based on a significance level of 0.05, do you reject or fail to\n",
        "reject the null hypothesis?\n",
        "\n",
        " Task: Write Python code to calculate the z-score and p-value for the given data.\n",
        "\n",
        "Objective: Apply the formula for the z-score and interpret the p-value for hypothesis testing."
      ],
      "metadata": {
        "id": "5nwXJNBzFAUo"
      }
    },
    {
      "cell_type": "code",
      "source": [
        "import scipy.stats as stats\n",
        "\n",
        "# Given data\n",
        "sample_mean = 105\n",
        "population_mean = 100\n",
        "population_std = 15\n",
        "sample_size = 25\n",
        "alpha = 0.05  # significance level\n",
        "\n",
        "# Calculate the z-score\n",
        "z_score = (sample_mean - population_mean) / (population_std / (sample_size ** 0.5))\n",
        "\n",
        "# Calculate the p-value (two-tailed test)\n",
        "p_value = 2 * (1 - stats.norm.cdf(abs(z_score)))\n",
        "\n",
        "# Determine whether to reject the null hypothesis\n",
        "reject_null = p_value < alpha\n",
        "\n",
        "print(f\"Z-Score: {z_score}\")\n",
        "print(f\"P-Value: {p_value}\")\n",
        "print(f\"Reject the null hypothesis? {'Yes' if reject_null else 'No'}\")\n"
      ],
      "metadata": {
        "colab": {
          "base_uri": "https://localhost:8080/"
        },
        "id": "XszV14rZdFdr",
        "outputId": "f25f4ad8-4521-4136-a94e-a3bf1a3a3e73"
      },
      "execution_count": 13,
      "outputs": [
        {
          "output_type": "stream",
          "name": "stdout",
          "text": [
            "Z-Score: 1.6666666666666667\n",
            "P-Value: 0.09558070454562939\n",
            "Reject the null hypothesis? No\n"
          ]
        }
      ]
    },
    {
      "cell_type": "markdown",
      "source": [
        "10: Simulate a binomial distribution with 10 trials and a probability of success of 0.6 using Python.\n",
        "Generate 1,000 samples and plot the distribution. What is the expected mean and variance?\n",
        "\n",
        "Task: Use Python to generate the data, plot the distribution, and calculate the mean and variance.\n",
        "\n",
        "Objective: Understand the properties of a binomial distribution and verify them through simulation."
      ],
      "metadata": {
        "id": "bHzSBwLwFAXV"
      }
    },
    {
      "cell_type": "code",
      "source": [
        "import numpy as np\n",
        "import matplotlib.pyplot as plt\n",
        "\n",
        "# Parameters for the binomial distribution\n",
        "n_trials = 10  # number of trials\n",
        "p_success = 0.6  # probability of success\n",
        "n_samples = 1000  # number of samples\n",
        "\n",
        "# Simulate binomial distribution using numpy\n",
        "binomial_samples = np.random.binomial(n=n_trials, p=p_success, size=n_samples)\n",
        "\n",
        "# Calculate the mean and variance of the simulated samples\n",
        "mean = np.mean(binomial_samples)\n",
        "variance = np.var(binomial_samples)\n",
        "\n",
        "# Plotting the distribution\n",
        "plt.figure(figsize=(8, 6))\n",
        "plt.hist(binomial_samples, bins=range(n_trials+2), edgecolor='black', alpha=0.7, density=True)\n",
        "plt.title(f'Binomial Distribution (n={n_trials}, p={p_success})\\nMean={mean:.2f}, Variance={variance:.2f}')\n",
        "plt.xlabel('Number of Successes')\n",
        "plt.ylabel('Probability')\n",
        "plt.xticks(range(n_trials+1))\n",
        "plt.grid(True)\n",
        "plt.show()\n",
        "\n",
        "print(f\"Expected Mean: {mean:.2f}\")\n",
        "print(f\"Expected Variance: {variance:.2f}\")\n"
      ],
      "metadata": {
        "colab": {
          "base_uri": "https://localhost:8080/",
          "height": 620
        },
        "id": "qAUQaP8QdY-i",
        "outputId": "2048ecb5-7121-45af-d911-34c8da8381a6"
      },
      "execution_count": 14,
      "outputs": [
        {
          "output_type": "display_data",
          "data": {
            "text/plain": [
              "<Figure size 800x600 with 1 Axes>"
            ],
            "image/png": "[encoded data removed]"
          },
          "metadata": {}
        },
        {
          "output_type": "stream",
          "name": "stdout",
          "text": [
            "Expected Mean: 6.02\n",
            "Expected Variance: 2.35\n"
          ]
        }
      ]
    },
    {
      "cell_type": "code",
      "source": [],
      "metadata": {
        "id": "iXn0JSNKdZtB"
      },
      "execution_count": null,
      "outputs": []
    }
  ]
}
